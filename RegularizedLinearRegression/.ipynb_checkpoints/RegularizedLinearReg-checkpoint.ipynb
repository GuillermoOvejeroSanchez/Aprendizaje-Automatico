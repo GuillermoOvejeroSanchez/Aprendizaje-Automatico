{
 "cells": [
  {
   "cell_type": "code",
   "execution_count": 1,
   "metadata": {},
   "outputs": [],
   "source": [
    "import os\n",
    "import numpy as np\n",
    "import matplotlib.pyplot as plt\n",
    "import pandas as pd\n",
    "from scipy.io import loadmat \n"
   ]
  },
  {
   "cell_type": "code",
   "execution_count": 2,
   "metadata": {},
   "outputs": [],
   "source": [
    "data = loadmat('ex5data1.mat')"
   ]
  },
  {
   "cell_type": "code",
   "execution_count": 39,
   "metadata": {},
   "outputs": [],
   "source": [
    "X = data['X']\n",
    "y = data['y']\n",
    "Xval = data['Xval']\n",
    "yval = data['yval']\n",
    "Xtest = data['Xtest']\n",
    "ytest = data['ytest']\n",
    "\n",
    "m = np.shape(X)[0]\n",
    "n = np.shape(X)[1]\n",
    "\n",
    "#columna de 1s a la X\n",
    "X = np.hstack([np.ones([m,1]),X])\n",
    "\n",
    "#columna de 1s a la X\n",
    "Xval = np.hstack([np.ones([np.shape(Xval)[0],1]),Xval])\n",
    "\n",
    "#columna de 1s a la X\n",
    "Xtest = np.hstack([np.ones([np.shape(Xtest)[0],1]),Xtest])"
   ]
  },
  {
   "cell_type": "code",
   "execution_count": 4,
   "metadata": {},
   "outputs": [],
   "source": [
    "theta = np.array([1,1])\n",
    "reg = 1"
   ]
  },
  {
   "cell_type": "code",
   "execution_count": 5,
   "metadata": {},
   "outputs": [],
   "source": [
    "def cost(theta, X, y, reg):\n",
    "    H = np.dot(X, theta)\n",
    "    Aux = (H - y.ravel())\n",
    "    primer_termino = np.sum(np.power(Aux,2)) / (2 * len(X))\n",
    "    regularizacion = np.sum(np.power(theta,2)) / (reg*(2*len(X)))\n",
    "    print(regularizacion)\n",
    "    return primer_termino + regularizacion"
   ]
  },
  {
   "cell_type": "code",
   "execution_count": 6,
   "metadata": {},
   "outputs": [
    {
     "name": "stdout",
     "output_type": "stream",
     "text": [
      "0.08333333333333333\n"
     ]
    },
    {
     "data": {
      "text/plain": [
       "304.0348588869309"
      ]
     },
     "execution_count": 6,
     "metadata": {},
     "output_type": "execute_result"
    }
   ],
   "source": [
    "cost(theta, X, y, reg)"
   ]
  },
  {
   "cell_type": "code",
   "execution_count": 7,
   "metadata": {},
   "outputs": [
    {
     "data": {
      "text/plain": [
       "array([-15.30301567, 598.25074417])"
      ]
     },
     "execution_count": 7,
     "metadata": {},
     "output_type": "execute_result"
    }
   ],
   "source": [
    "def gradient(theta, X, y, reg):\n",
    "    H = np.dot(X, theta)\n",
    "    Aux = H - y.ravel()\n",
    "    theta0 = np.dot(Aux, X)/len(X)\n",
    "    theta = np.dot(Aux, X)/len(X) + (reg/len(X)) * theta\n",
    "    Theta = np.array([theta0[0], theta[1]])\n",
    "    return Theta\n",
    "gradient(theta, X, y, reg)"
   ]
  },
  {
   "cell_type": "code",
   "execution_count": 8,
   "metadata": {},
   "outputs": [
    {
     "name": "stdout",
     "output_type": "stream",
     "text": [
      "0.08333333333333333\n",
      "0.08333333457509677\n",
      "0.08333333457509677\n",
      "0.08333333333333333\n",
      "0.0438385898041905\n",
      "0.0438385898041905\n",
      "0.043838591077850375\n",
      "0.04383858979217855\n",
      "6.661765862851866\n",
      "6.661765862851866\n",
      "6.661765878546749\n",
      "6.661765863305202\n",
      "6.0534004924742755\n",
      "6.0534004924742755\n",
      "6.053400507434859\n",
      "6.053400492923423\n",
      "6.057397260138509\n",
      "6.057397260138509\n",
      "6.057397275104042\n",
      "6.057397260587449\n",
      "6.057397699778843\n",
      "6.057397699778843\n",
      "6.0573977147443765\n",
      "6.057397700227786\n"
     ]
    }
   ],
   "source": [
    "from scipy.optimize import minimize\n",
    "\n",
    "theta = np.array([1,1])\n",
    "reg = 1\n",
    "\n",
    "fmin = minimize(fun=cost, x0=theta, args=(X, y, reg))"
   ]
  },
  {
   "cell_type": "code",
   "execution_count": 36,
   "metadata": {},
   "outputs": [
    {
     "data": {
      "text/plain": [
       "[<matplotlib.lines.Line2D at 0x2b46bf3e248>]"
      ]
     },
     "execution_count": 36,
     "metadata": {},
     "output_type": "execute_result"
    },
    {
     "data": {
      "image/png": "[encoded data removed]",
      "text/plain": [
       "<Figure size 432x288 with 1 Axes>"
      ]
     },
     "metadata": {
      "needs_background": "light"
     },
     "output_type": "display_data"
    }
   ],
   "source": [
    "#valores de x para la regresion lineal\n",
    "x_reg = np.linspace(min(X[:,-1]), max(X[:,-1]))\n",
    "y_reg =  fmin.x[0] + fmin.x[1]*x_reg #Valores introducidos a mano probando\n",
    "\n",
    "plt.scatter(X[:,1], y, c='r', marker='x')\n",
    "plt.plot(x_reg,y_reg)"
   ]
  },
  {
   "cell_type": "code",
   "execution_count": 40,
   "metadata": {},
   "outputs": [
    {
     "name": "stdout",
     "output_type": "stream",
     "text": [
      "1.0\n"
     ]
    },
    {
     "data": {
      "text/plain": [
       "160.86233192943536"
      ]
     },
     "execution_count": 40,
     "metadata": {},
     "output_type": "execute_result"
    }
   ],
   "source": [
    "crossval = []\n",
    "for i in range(len(Xval))\n",
    "    cost_i = cost(theta, Xval[0:i], y[0:i], reg)\n",
    "    crossval.append(cost_i)"
   ]
  }
 ],
 "metadata": {
  "kernelspec": {
   "display_name": "Python 3",
   "language": "python",
   "name": "python3"
  },
  "language_info": {
   "codemirror_mode": {
    "name": "ipython",
    "version": 3
   },
   "file_extension": ".py",
   "mimetype": "text/x-python",
   "name": "python",
   "nbconvert_exporter": "python",
   "pygments_lexer": "ipython3",
   "version": "3.7.4"
  }
 },
 "nbformat": 4,
 "nbformat_minor": 2
}
