{
 "cells": [
  {
   "cell_type": "code",
   "execution_count": 1,
   "metadata": {},
   "outputs": [],
   "source": [
    "import os\n",
    "import numpy as np\n",
    "import matplotlib.pyplot as plt\n",
    "import pandas as pd\n",
    "from scipy.io import loadmat \n",
    "\n",
    "PROJECT_ROOT_DIR = \"./\"\n",
    "IMAGES_PATH = os.path.join(PROJECT_ROOT_DIR, \"img\")\n",
    "DATA_PATH = os.path.join(PROJECT_ROOT_DIR, \"data\")\n",
    "os.makedirs(IMAGES_PATH, exist_ok=True)\n",
    "os.makedirs(DATA_PATH, exist_ok=True)"
   ]
  },
  {
   "cell_type": "code",
   "execution_count": 2,
   "metadata": {},
   "outputs": [],
   "source": [
    "def save_fig(fig_id, tight_layout=True, fig_extension=\"png\", resolution=300):\n",
    "    path = os.path.join(IMAGES_PATH, fig_id + \".\" + fig_extension)\n",
    "    print(\"Saving figure\", fig_id)\n",
    "    if tight_layout:\n",
    "        plt.tight_layout()\n",
    "    plt.savefig(path, format=fig_extension, dpi=resolution)"
   ]
  },
  {
   "cell_type": "code",
   "execution_count": 3,
   "metadata": {},
   "outputs": [],
   "source": [
    "data = loadmat(os.path.join(DATA_PATH, 'ex4data1.mat'))\n",
    "\n",
    "#data and nn params\n",
    "y = data['y'].ravel() # (5000, 1) --> (5000,)\n",
    "X = data['X']\n",
    "m = len(y)\n",
    "input_size = X.shape[1]\n",
    "num_labels = 10\n",
    "hidden_size = 25\n",
    "learning_rate = 1\n",
    "\n",
    "#one hot encoding\n",
    "y = (y - 1)\n",
    "y_onehot = np.zeros((m, num_labels))  # 5000 x 10\n",
    "for i in range(m):\n",
    "    y_onehot[i][y[i]] = 1"
   ]
  },
  {
   "cell_type": "code",
   "execution_count": 4,
   "metadata": {},
   "outputs": [],
   "source": [
    "#load weights pre trained\n",
    "weights = loadmat(os.path.join(DATA_PATH, \"ex4weights.mat\"))\n",
    "theta1, theta2 = weights['Theta1'], weights['Theta2']\n",
    "# Theta1 e s de dimensión 25 x 401\n",
    "# Theta2 e s de dimensión 10 x 26"
   ]
  },
  {
   "cell_type": "code",
   "execution_count": 5,
   "metadata": {},
   "outputs": [],
   "source": [
    "#funcion sigmoide\n",
    "def sigmoid(z):\n",
    "    return 1/(1+np.exp(-z))\n",
    "\n",
    "#derivada de la funcion sigmoide\n",
    "def sigmoid_gradient(z):\n",
    "    return np.multiply(sigmoid(z), 1-sigmoid(z))\n"
   ]
  },
  {
   "cell_type": "code",
   "execution_count": 6,
   "metadata": {},
   "outputs": [],
   "source": [
    "#propagacion hacia delante de la red\n",
    "def forward_propagate(X, theta1, theta2):\n",
    "    m = X.shape[0]\n",
    "    a1 = np.hstack([np.ones([m, 1]), X])\n",
    "    z2 = np.dot(a1, theta1.T)\n",
    "    a2 = np.hstack([np.ones([m, 1]), sigmoid(z2)])\n",
    "    z3 = np.dot(a2, theta2.T)\n",
    "    h = sigmoid(z3)\n",
    "    return a1, z2, a2, z3, h"
   ]
  },
  {
   "cell_type": "code",
   "execution_count": 7,
   "metadata": {},
   "outputs": [],
   "source": [
    "#computa el coste y el gradiente de la red neuronal, propagando hacia atras la red\n",
    "def backprop(params_rn, num_entradas, num_ocultas, num_etiquetas, X, y, reg = 0):\n",
    "    #desenredar los parametros pasados como un array en params_rn\n",
    "    theta1 = np.reshape(params_rn[:num_ocultas * (num_entradas + 1)] ,(num_ocultas , (num_entradas + 1)))\n",
    "    theta2 = np.reshape(params_rn[num_ocultas * (num_entradas + 1):] ,(num_etiquetas, (num_ocultas + 1)))\n",
    "    m = X.shape[0]\n",
    "    \n",
    "    #forward_prop params\n",
    "    a1, z2, a2, z3, h = forward_propagate(X, theta1, theta2)\n",
    "    \n",
    "    #calculo del coste\n",
    "    cost = 0\n",
    "    for i in range(m):\n",
    "        #primer termino\n",
    "        primer_termino = np.dot(-y[i,:], np.log(h[i,:]))\n",
    "        #segundo termino\n",
    "        segundo_termino = np.dot(1 - y[i,:], np.log(1 - h[i,:]))\n",
    "\n",
    "        cost += np.sum(primer_termino - segundo_termino)\n",
    "        \n",
    "    cost = cost / m\n",
    "    \n",
    "    #con regularizacion\n",
    "    if reg != 0:\n",
    "        cost += reg/(2*m) * (np.sum(np.power(theta1[:, 1:], 2)) + np.sum(np.power(theta2[:, 1:], 2)))\n",
    "    \n",
    "    \n",
    "    #backpropagation\n",
    "    delta1 = np.zeros(theta1.shape)  # (25, 401)\n",
    "    delta2 = np.zeros(theta2.shape)  # (10, 26)\n",
    "    \n",
    "    for t in range(m):\n",
    "        a1t = a1[t, :] # (1, 401)\n",
    "        a2t = a2[t, :] # (1, 26)\n",
    "        ht = h[t, :] # (1, 10)\n",
    "        yt = y[t] # (1, 10)\n",
    "        d3t = ht - yt # (1, 10)\n",
    "        d2t = np.dot(theta2.T, d3t) * (a2t * (1 - a2t)) # (1, 26)\n",
    "        delta1 = delta1 + np.dot(d2t[1:, np.newaxis], a1t[np.newaxis, :])\n",
    "        delta2 = delta2 + np.dot(d3t[:, np.newaxis], a2t[np.newaxis, :])\n",
    "        \n",
    "    delta1 = delta1 / m\n",
    "    delta2 = delta2 / m\n",
    "    \n",
    "    #con regularizacion\n",
    "    if reg != 0:\n",
    "        delta1[:, 1:] = delta1[:, 1:] + (theta1[:, 1:] * reg) / m\n",
    "        delta2[:, 1:] = delta2[:, 1:] + (theta2[:, 1:] * reg) / m\n",
    "    \n",
    "    grad = np.concatenate((np.ravel(delta1), np.ravel(delta2)))\n",
    "    \n",
    "    return cost, grad"
   ]
  },
  {
   "cell_type": "code",
   "execution_count": 8,
   "metadata": {},
   "outputs": [],
   "source": [
    "#devuelve una matriz aleatoria de (L_in, L_out + 1) que se encuentra entre el rango de (-e_ini, e_ini)\n",
    "def pesosAleatorios(L_in, L_out):\n",
    "    e_ini = 0.12\n",
    "    params = np.random.rand(L_in, L_out + 1)\n",
    "    params = ((e_ini - (-e_ini)) * params) - e_ini #Regularizar entre (-e_ini, e_ini)\n",
    "    return params"
   ]
  },
  {
   "cell_type": "code",
   "execution_count": 9,
   "metadata": {},
   "outputs": [
    {
     "data": {
      "text/plain": [
       "(0.2876291651613188,\n",
       " array([ 6.18712766e-05,  0.00000000e+00,  0.00000000e+00, ...,\n",
       "         9.66104721e-05, -7.57736846e-04,  7.73329872e-04]))"
      ]
     },
     "execution_count": 9,
     "metadata": {},
     "output_type": "execute_result"
    }
   ],
   "source": [
    "#prueba sin regularizacion -> 0.287\n",
    "params = np.concatenate((np.ravel(theta1), np.ravel(theta2)))\n",
    "backprop(params, X.shape[1], hidden_size, num_labels, X, y_onehot)"
   ]
  },
  {
   "cell_type": "code",
   "execution_count": 10,
   "metadata": {},
   "outputs": [
    {
     "data": {
      "text/plain": [
       "(0.38376985909092354,\n",
       " array([ 6.18712766e-05, -2.11248326e-12,  4.38829369e-13, ...,\n",
       "         4.70513145e-05, -5.01718610e-04,  5.07825789e-04]))"
      ]
     },
     "execution_count": 10,
     "metadata": {},
     "output_type": "execute_result"
    }
   ],
   "source": [
    "#prueba con regularizacion -> 0.387\n",
    "params = np.concatenate((np.ravel(theta1), np.ravel(theta2)))\n",
    "backprop(params, X.shape[1], hidden_size, num_labels, X, y_onehot, learning_rate)"
   ]
  },
  {
   "cell_type": "code",
   "execution_count": 11,
   "metadata": {
    "scrolled": true
   },
   "outputs": [
    {
     "data": {
      "text/plain": [
       "array([ 5.27760891e-11,  7.32719441e-13,  8.82988127e-12,  7.53046930e-12,\n",
       "       -6.52669724e-11,  4.33014735e-12, -1.60946811e-11, -4.70333078e-11,\n",
       "       -8.85581053e-11,  5.59484403e-12, -4.34998149e-11, -1.24423472e-10,\n",
       "       -2.17855040e-11,  4.35645964e-12, -9.22964483e-12, -2.43030734e-11,\n",
       "        2.15736456e-11,  2.27623476e-13,  7.55696200e-12,  2.84505197e-11,\n",
       "        6.03759820e-11,  1.83081883e-11,  4.06510936e-12,  5.29278010e-12,\n",
       "        1.81106657e-11,  1.78381754e-11,  7.15513759e-11,  1.63749014e-11,\n",
       "        7.86468113e-12,  1.17110488e-11,  1.64833286e-11,  1.95246597e-11,\n",
       "        7.32915395e-11,  1.66865410e-11,  8.55090998e-12,  1.63125624e-11,\n",
       "        1.56829272e-11,  1.99839589e-11])"
      ]
     },
     "execution_count": 11,
     "metadata": {},
     "output_type": "execute_result"
    }
   ],
   "source": [
    "#comprobar que el calculo del gradiente de la funcion backprop esta bien\n",
    "%run checkNNGradients.py\n",
    "checkNNGradients(backprop, learning_rate)"
   ]
  },
  {
   "cell_type": "code",
   "execution_count": 12,
   "metadata": {},
   "outputs": [
    {
     "data": {
      "text/plain": [
       "     fun: 0.5404704854243482\n",
       "     jac: array([ 2.17099243e-03, -7.99030705e-06, -4.31770773e-06, ...,\n",
       "        8.49612999e-04,  2.68241659e-04,  1.14576586e-03])\n",
       " message: 'Max. number of function evaluations reached'\n",
       "    nfev: 70\n",
       "     nit: 12\n",
       "  status: 3\n",
       " success: False\n",
       "       x: array([ 0.14261609, -0.03995154, -0.02158854, ..., -0.38820605,\n",
       "       -1.2312384 ,  1.25135622])"
      ]
     },
     "execution_count": 12,
     "metadata": {},
     "output_type": "execute_result"
    }
   ],
   "source": [
    "from scipy.optimize import minimize\n",
    "\n",
    "theta1_rand = pesosAleatorios(hidden_size, X.shape[1])\n",
    "theta2_rand = pesosAleatorios(num_labels, hidden_size)\n",
    "\n",
    "params = np.concatenate((np.ravel(theta1_rand), np.ravel(theta2_rand)))\n",
    "\n",
    "fmin = minimize(fun=backprop, x0=params, args=(input_size, hidden_size, num_labels, X, y_onehot, learning_rate), \n",
    "                method='TNC', jac=True, options={'maxiter': 70})\n",
    "fmin"
   ]
  },
  {
   "cell_type": "code",
   "execution_count": 13,
   "metadata": {},
   "outputs": [],
   "source": [
    "theta1_train = np.matrix(np.reshape(fmin.x[:hidden_size * (input_size + 1)], (hidden_size, (input_size + 1))))\n",
    "theta2_train = np.matrix(np.reshape(fmin.x[hidden_size * (input_size + 1):], (num_labels, (hidden_size + 1))))\n",
    "\n",
    "a1, z2, a2, z3, h = forward_propagate(X, theta1_train, theta2_train)\n",
    "neural_pred = h.argmax(axis=1)+1"
   ]
  },
  {
   "cell_type": "code",
   "execution_count": 14,
   "metadata": {},
   "outputs": [],
   "source": [
    "from sklearn.metrics import confusion_matrix, f1_score\n",
    "def scores(y, neural_pred, show = True):\n",
    "    f1 = f1_score(y, neural_pred, average='weighted')\n",
    "    accuracy = np.mean(neural_pred == y[:])\n",
    "    print(\"f1_score:\", f1)\n",
    "    print(\"accuracy:\", accuracy)\n",
    "    if show:\n",
    "        plt.figure(figsize = (10,10))\n",
    "        plt.xlabel('Actual')\n",
    "        plt.ylabel('Predicted')\n",
    "        plt.imshow(confusion_matrix(y, neural_pred), cmap='viridis')\n",
    "        plt.show()\n",
    "    return f1, accuracy"
   ]
  },
  {
   "cell_type": "code",
   "execution_count": 15,
   "metadata": {},
   "outputs": [
    {
     "name": "stdout",
     "output_type": "stream",
     "text": [
      "f1_score: 0.9430705407315696\n",
      "accuracy: 0.9432\n"
     ]
    },
    {
     "data": {
      "image/png": "[encoded data removed]",
      "text/plain": [
       "<Figure size 720x720 with 1 Axes>"
      ]
     },
     "metadata": {
      "needs_background": "light"
     },
     "output_type": "display_data"
    },
    {
     "data": {
      "text/plain": [
       "(0.9430705407315696, 0.9432)"
      ]
     },
     "execution_count": 15,
     "metadata": {},
     "output_type": "execute_result"
    }
   ],
   "source": [
    "y = data['y']\n",
    "scores(y, neural_pred)"
   ]
  },
  {
   "cell_type": "code",
   "execution_count": 16,
   "metadata": {},
   "outputs": [],
   "source": [
    "def train_nn(X , y, input_size, num_labels, hidden_size, learning_rate):\n",
    "    #one hot encoding\n",
    "    y = y.ravel()\n",
    "    y = (y - 1)\n",
    "    y_onehot = np.zeros((m, num_labels))  # 5000 x 10\n",
    "    for i in range(m):\n",
    "        y_onehot[i][y[i]] = 1\n",
    "    \n",
    "    theta1_rand = pesosAleatorios(hidden_size, X.shape[1])\n",
    "    theta2_rand = pesosAleatorios(num_labels, hidden_size)\n",
    "\n",
    "    params = np.concatenate((np.ravel(theta1_rand), np.ravel(theta2_rand)))\n",
    "\n",
    "    fmin = minimize(fun=backprop, x0=params, args=(input_size, hidden_size, num_labels, X, y_onehot, learning_rate), \n",
    "                    method='TNC', jac=True, options={'maxiter': 70})\n",
    "    \n",
    "    theta1_train = np.matrix(np.reshape(fmin.x[:hidden_size * (input_size + 1)], (hidden_size, (input_size + 1))))\n",
    "    theta2_train = np.matrix(np.reshape(fmin.x[hidden_size * (input_size + 1):], (num_labels, (hidden_size + 1))))\n",
    "\n",
    "    a1, z2, a2, z3, h = forward_propagate(X, theta1_train, theta2_train)\n",
    "    neural_pred = h.argmax(axis=1)+1\n",
    "    y = data['y']\n",
    "    f1, accuracy = scores(y, neural_pred, show = True)\n",
    "    return f1, accuracy"
   ]
  },
  {
   "cell_type": "code",
   "execution_count": 18,
   "metadata": {},
   "outputs": [
    {
     "name": "stdout",
     "output_type": "stream",
     "text": [
      "f1_score: 0.9382507919438292\n",
      "accuracy: 0.9384\n"
     ]
    },
    {
     "data": {
      "image/png": "[encoded data removed]",
      "text/plain": [
       "<Figure size 720x720 with 1 Axes>"
      ]
     },
     "metadata": {
      "needs_background": "light"
     },
     "output_type": "display_data"
    },
    {
     "data": {
      "text/plain": [
       "(0.9382507919438292, 0.9384)"
      ]
     },
     "execution_count": 18,
     "metadata": {},
     "output_type": "execute_result"
    }
   ],
   "source": [
    "train_nn(X , y, input_size, num_labels, hidden_size, learning_rate)"
   ]
  }
 ],
 "metadata": {
  "kernelspec": {
   "display_name": "Python 3",
   "language": "python",
   "name": "python3"
  },
  "language_info": {
   "codemirror_mode": {
    "name": "ipython",
    "version": 3
   },
   "file_extension": ".py",
   "mimetype": "text/x-python",
   "name": "python",
   "nbconvert_exporter": "python",
   "pygments_lexer": "ipython3",
   "version": "3.7.4"
  }
 },
 "nbformat": 4,
 "nbformat_minor": 2
}
