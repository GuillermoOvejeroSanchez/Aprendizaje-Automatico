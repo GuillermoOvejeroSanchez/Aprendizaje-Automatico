{
 "cells": [
  {
   "cell_type": "markdown",
   "metadata": {},
   "source": [
    "# Práctica 1 Vectorizacion"
   ]
  },
  {
   "cell_type": "markdown",
   "metadata": {},
   "source": [
    "Importamos las librerias que nos haran falta <br>\n",
    "matplotlib para hacer graficas <br>\n",
    "Numpy para generar numeros aleatorios y operaciones con arrays <br>\n",
    "Time para calcular el tiempo de computo <br>\n",
    "scipy para comprobar el area de una funcion <br>"
   ]
  },
  {
   "cell_type": "code",
   "execution_count": 1,
   "metadata": {},
   "outputs": [],
   "source": [
    "import matplotlib.pyplot as plt\n",
    "import numpy as np\n",
    "import time\n",
    "from scipy import integrate"
   ]
  },
  {
   "cell_type": "code",
   "execution_count": 7,
   "metadata": {},
   "outputs": [],
   "source": [
    "def f(x):\n",
    "    return 2*x #y = -x^2+3x\n",
    "\n",
    "def nep(x):\n",
    "    return (x**12*np.exp(x))/(x+1*x+40)\n",
    "    \n",
    "def plot_func(fun,a,b):\n",
    "    x = np.linspace(a,b,50)\n",
    "    for i,v in enumerate(x):\n",
    "        y = fun(x)\n",
    "        \n",
    "    plt.plot(x,y)\n",
    "\n",
    "    \n",
    "\n",
    "def integra_mc(fun, a, b, num_puntos=10000, print_out=True):\n",
    "    VAL = 1000\n",
    "    x = np.linspace(a,b,VAL)\n",
    "    y = np.array(fun(x))\n",
    "\n",
    "    x_rand = np.random.uniform(a,b,num_puntos)\n",
    "    y_rand = np.random.uniform(min(y),max(y),num_puntos)\n",
    "    \n",
    "    tic = time.process_time()\n",
    "    debajo = 0\n",
    "    for i in range(num_puntos):\n",
    "        if y_rand[i] < fun(x_rand[i]):\n",
    "            debajo += 1\n",
    "    toc = time.process_time()\n",
    "    if print_out:\n",
    "        print(\"Tiempo: {}\".format(1000*(toc-tic)))\n",
    "        print(\"Nº Debajo: {}\".format(debajo))\n",
    "        print(\"Nº Total: {}\".format(num_puntos))\n",
    "        print(\"(b-a)M = {}\".format((b-a)*max(y)))\n",
    "        print(\"Area Vector: {}\".format((debajo/num_puntos)*(b-a)*max(y)))\n",
    "        plt.scatter(x_rand,y_rand,c='red',marker='x', alpha=0.5)\n",
    "    return (debajo/num_puntos)*(b-a)*max(y)"
   ]
  },
  {
   "cell_type": "code",
   "execution_count": null,
   "metadata": {},
   "outputs": [],
   "source": [
    "divby = 10**13\n",
    "\n",
    "func = f\n",
    "a = 0\n",
    "b = 1\n",
    "puntos = 1000\n",
    "plot_func(func,a,b)\n",
    "#integra_mc_bucle(f,a,b)\n",
    "mc_area = integra_mc(func,a,b,num_puntos=puntos)\n",
    "print(\"\\nArea con scipy: {}\".format(integrate.quad(func,a,b)[0]))\n",
    "print(\"Error: {}\".format(abs(mc_area - integrate.quad(func,a,b)[0])))\n",
    "plt.show()\n"
   ]
  },
  {
   "cell_type": "code",
   "execution_count": 6,
   "metadata": {},
   "outputs": [
    {
     "data": {
      "image/png": "[encoded data removed]",
      "text/plain": [
       "<Figure size 432x288 with 1 Axes>"
      ]
     },
     "metadata": {
      "needs_background": "light"
     },
     "output_type": "display_data"
    }
   ],
   "source": [
    "def integra_mc_time(fun, a, b, num_puntos=10000):\n",
    "    VAL = 1000\n",
    "    x = np.linspace(a,b,VAL)\n",
    "    y = np.array(fun(x))\n",
    "\n",
    "    x_rand = np.random.uniform(a,b,num_puntos)\n",
    "    y_rand = np.random.uniform(min(y),max(y),num_puntos)\n",
    "    \n",
    "    tic = time.process_time()\n",
    "    debajo = 0\n",
    "    for i in range(num_puntos):\n",
    "        if y_rand[i] < fun(x_rand[i]):\n",
    "            debajo += 1\n",
    "    toc = time.process_time()\n",
    "    return (1000*(toc-tic))\n",
    "    \n",
    "def integra_mc_bucle_time(fun, a, b, num_puntos=10000):\n",
    "    VAL = 100\n",
    "    x = np.linspace(a,b,VAL)\n",
    "    y = np.array(fun(x))\n",
    "\n",
    "   \n",
    "    tic = time.process_time()\n",
    "    debajo = 0\n",
    "    for i in range(num_puntos):\n",
    "        x_rand = np.random.uniform(a,b)\n",
    "        y_rand = np.random.uniform(min(y),max(y))\n",
    "        if y_rand < fun(x_rand):\n",
    "            debajo += 1\n",
    "    toc = time.process_time()    \n",
    "    return (1000*(toc-tic))\n",
    "\n",
    "\n",
    "def compara_tiempos(fun,a,b):\n",
    "    sizes = np.linspace(100,100000,20)\n",
    "    times_bucle = []\n",
    "    times_fast = []\n",
    "    for size in sizes:\n",
    "        times_bucle += [integra_mc_bucle_time(fun,a,b,int(size))]\n",
    "        times_fast += [integra_mc_time(fun,a,b,int(size))]\n",
    "        \n",
    "    plt.figure()\n",
    "    plt.scatter(sizes,times_bucle, c='red', label='bucle')\n",
    "    plt.scatter(sizes, times_fast, c='blue', label='vector')\n",
    "    plt.legend()\n",
    "    plt.show()\n",
    "        \n",
    "\n",
    "compara_tiempos(f,a,b)"
   ]
  }
 ],
 "metadata": {
  "kernelspec": {
   "display_name": "Python 3",
   "language": "python",
   "name": "python3"
  },
  "language_info": {
   "codemirror_mode": {
    "name": "ipython",
    "version": 3
   },
   "file_extension": ".py",
   "mimetype": "text/x-python",
   "name": "python",
   "nbconvert_exporter": "python",
   "pygments_lexer": "ipython3",
   "version": "3.7.4"
  }
 },
 "nbformat": 4,
 "nbformat_minor": 4
}
