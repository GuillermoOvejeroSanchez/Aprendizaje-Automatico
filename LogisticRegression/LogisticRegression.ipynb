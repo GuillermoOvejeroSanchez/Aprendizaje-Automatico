{
 "cells": [
  {
   "cell_type": "code",
   "execution_count": 1,
   "metadata": {},
   "outputs": [],
   "source": [
    "import os\n",
    "import numpy as np\n",
    "import matplotlib.pyplot as plt\n",
    "import pandas as pd"
   ]
  },
  {
   "cell_type": "code",
   "execution_count": 2,
   "metadata": {},
   "outputs": [],
   "source": [
    "PROJECT_ROOT_DIR = \"./\"\n",
    "IMAGES_PATH = os.path.join(PROJECT_ROOT_DIR, \"img\")\n",
    "DATA_PATH = os.path.join(PROJECT_ROOT_DIR, \"data\")\n",
    "os.makedirs(IMAGES_PATH, exist_ok=True)\n",
    "os.makedirs(DATA_PATH, exist_ok=True)\n",
    "\n",
    "def save_fig(fig_id, tight_layout=True, fig_extension=\"png\", resolution=300):\n",
    "    path = os.path.join(IMAGES_PATH, fig_id + \".\" + fig_extension)\n",
    "    print(\"Saving figure\", fig_id)\n",
    "    if tight_layout:\n",
    "        plt.tight_layout()\n",
    "    plt.savefig(path, format=fig_extension, dpi=resolution)\n",
    "    \n",
    "def load_csv(path=DATA_PATH, fich=\"ex1data1.csv\"):\n",
    "    os.makedirs(path, exist_ok=True)\n",
    "    csv_path = os.path.join(path,fich)\n",
    "    datos = pd.read_csv(csv_path, header=None).values\n",
    "    return datos.astype(float) "
   ]
  },
  {
   "cell_type": "code",
   "execution_count": 3,
   "metadata": {},
   "outputs": [
    {
     "data": {
      "text/plain": [
       "numpy.ndarray"
      ]
     },
     "execution_count": 3,
     "metadata": {},
     "output_type": "execute_result"
    }
   ],
   "source": [
    "datos = load_csv(fich=\"ex2data1.csv\")\n",
    "type(datos)"
   ]
  },
  {
   "cell_type": "code",
   "execution_count": 4,
   "metadata": {},
   "outputs": [
    {
     "data": {
      "text/plain": [
       "(100, 3)"
      ]
     },
     "execution_count": 4,
     "metadata": {},
     "output_type": "execute_result"
    }
   ],
   "source": [
    "np.shape(datos)"
   ]
  },
  {
   "cell_type": "markdown",
   "metadata": {},
   "source": [
    "# 1. Regresión logística\n",
    "Los datos del fichero ex2data1.csv representan las notas obtenidas por una serie de candidatos en los dos exámenes de admisión de una universidad junto con la información sobre si\n",
    "fueron (1) o no (0) admitidos. El objetivo de la práctica es construir un modelo por regresión\n",
    "logística que estime la probabilidad de que un estudiante sea admitido en esa universidad en base\n",
    "a las notas de sus exámenes.\n"
   ]
  },
  {
   "cell_type": "code",
   "execution_count": 5,
   "metadata": {},
   "outputs": [],
   "source": [
    "X = datos[:,:-1]\n",
    "np.shape(X) #(100,2)\n",
    "\n",
    "Y = datos[:,-1]\n",
    "np.shape(Y) #(100,0)\n",
    "\n",
    "m = np.shape(X)[0]\n",
    "n = np.shape(X)[1]\n",
    "\n",
    "# añadimos una columna de 1's a la X\n",
    "X = np.hstack([np.ones([m, 1]), X])"
   ]
  },
  {
   "cell_type": "code",
   "execution_count": 6,
   "metadata": {},
   "outputs": [
    {
     "data": {
      "image/png": "[encoded data removed]",
      "text/plain": [
       "<Figure size 432x288 with 1 Axes>"
      ]
     },
     "metadata": {
      "needs_background": "light"
     },
     "output_type": "display_data"
    }
   ],
   "source": [
    "#admitidos\n",
    "pos = np.where(Y == 1)\n",
    "plt.scatter(X[pos, 1], X[pos, 2], marker='x', c='g', label='admitidos')\n",
    "#no admitidos\n",
    "pos = np.where(Y == 0)\n",
    "plt.scatter(X[pos,1], X[pos,2], marker='v', c='r', label='no admitidos')\n",
    "plt.legend(loc = 'upper right')\n",
    "plt.xlabel(\"Exam 1 score\")\n",
    "plt.ylabel(\"Exam 2 score\")\n",
    "plt.show()"
   ]
  },
  {
   "cell_type": "markdown",
   "metadata": {},
   "source": [
    "## Función sigmoide"
   ]
  },
  {
   "cell_type": "code",
   "execution_count": 18,
   "metadata": {},
   "outputs": [
    {
     "data": {
      "image/png": "[encoded data removed]",
      "text/plain": [
       "<Figure size 432x288 with 1 Axes>"
      ]
     },
     "metadata": {
      "needs_background": "light"
     },
     "output_type": "display_data"
    }
   ],
   "source": [
    "def sigmoid(z):\n",
    "    return 1/(1+np.exp(-z))\n",
    "\n",
    "x = np.linspace(-10,10,50)\n",
    "y = sigmoid(x)\n",
    "\n",
    "plt.plot(x,y)\n",
    "plt.show()"
   ]
  },
  {
   "cell_type": "code",
   "execution_count": 8,
   "metadata": {},
   "outputs": [],
   "source": [
    "theta = np.zeros(np.shape(X[1]))"
   ]
  },
  {
   "cell_type": "markdown",
   "metadata": {},
   "source": [
    "## Funcion de coste"
   ]
  },
  {
   "cell_type": "code",
   "execution_count": 9,
   "metadata": {},
   "outputs": [
    {
     "data": {
      "text/plain": [
       "0.6931471805599453"
      ]
     },
     "execution_count": 9,
     "metadata": {},
     "output_type": "execute_result"
    }
   ],
   "source": [
    "def cost(theta, X, Y):\n",
    "    H = sigmoid(np.matmul(X, Theta)) # X\\theta\n",
    "    cost = (-1 / len(X)) * (np.matmul(np.log(H).T, Y) + np.matmul(np.log(1 - H).T, 1 - Y))\n",
    "    return cost\n",
    "\n",
    "\n",
    "def coste(theta, X, Y):\n",
    "    # H = sigmoid(np.matmul(X, np.transpose(theta)))\n",
    "    H = sigmoid(np.matmul(X, theta))\n",
    "    # cost = (- 1 / (len(X))) * np.sum( Y * np.log(H) + (1 - Y) * np.log(1 - H) )\n",
    "    cost = (- 1 / (len(X))) * (np.matmul(Y, np.log(H)) + np.matmul((1 - Y), np.log(1 - H)))\n",
    "    return cost\n",
    "\n",
    "coste(theta, X, Y)"
   ]
  },
  {
   "cell_type": "markdown",
   "metadata": {},
   "source": [
    "## Gradiente"
   ]
  },
  {
   "cell_type": "code",
   "execution_count": 10,
   "metadata": {},
   "outputs": [
    {
     "data": {
      "text/plain": [
       "array([ -0.1       , -12.00921659, -11.26284221])"
      ]
     },
     "execution_count": 10,
     "metadata": {},
     "output_type": "execute_result"
    }
   ],
   "source": [
    "def gradient(Theta, X, Y):\n",
    "    H = sigmoid(np.matmul(X, Theta))\n",
    "    return (1/len(X)) * (np.matmul(X.T, H - Y))\n",
    "    \n",
    "gradient(theta, X,Y)"
   ]
  },
  {
   "cell_type": "markdown",
   "metadata": {},
   "source": [
    "## Valor optimo de los parametros"
   ]
  },
  {
   "cell_type": "code",
   "execution_count": 11,
   "metadata": {},
   "outputs": [
    {
     "data": {
      "text/plain": [
       "array([-25.16131854,   0.20623159,   0.20147149])"
      ]
     },
     "execution_count": 11,
     "metadata": {},
     "output_type": "execute_result"
    }
   ],
   "source": [
    "import scipy.optimize as opt\n",
    "\n",
    "result = opt.fmin_tnc(func=coste, x0=theta, fprime=gradient, args=(X, Y))\n",
    "theta_opt = result[0]\n",
    "\n",
    "theta_opt"
   ]
  },
  {
   "cell_type": "code",
   "execution_count": 12,
   "metadata": {},
   "outputs": [
    {
     "data": {
      "image/png": "[encoded data removed]",
      "text/plain": [
       "<Figure size 432x288 with 1 Axes>"
      ]
     },
     "metadata": {
      "needs_background": "light"
     },
     "output_type": "display_data"
    }
   ],
   "source": [
    "def pinta_frontera_recta(theta, X, Y):\n",
    "    plt.figure()\n",
    "    #admitidos\n",
    "    pos = np.where(Y == 1)\n",
    "    plt.scatter(X[pos, 1], X[pos, 2], marker='x', c='g', label='admitidos')\n",
    "    #no admitidos\n",
    "    pos = np.where(Y == 0)\n",
    "    plt.scatter(X[pos,1], X[pos,2], marker='v', c='r', label='no admitidos')\n",
    "    plt.legend(loc = 'upper right')\n",
    "    plt.xlabel(\"Exam 1 score\")\n",
    "    plt.ylabel(\"Exam 2 score\")\n",
    "    #plt.show()\n",
    "\n",
    "    x1_min, x1_max = X[:, 1].min(), X[:, 2].max()\n",
    "    x2_min, x2_max = X[:, 1].min(), X[:, 2].max()\n",
    "\n",
    "    xx1, xx2 = np.meshgrid(np.linspace(x1_min, x1_max),\n",
    "    np.linspace(x2_min, x2_max))\n",
    "\n",
    "    h = sigmoid(np.c_[np.ones((xx1.ravel().shape[0], 1)), xx1.ravel(), xx2.ravel()].dot(theta))\n",
    "\n",
    "    h = h.reshape(xx1.shape)\n",
    "    # el cuarto parámetro es el valor de z cuya frontera se\n",
    "    # quiere pintar\n",
    "    plt.contour(xx1, xx2, h, [0.5], linewidths=1, colors='orange')\n",
    "    plt.savefig(\"frontera.pdf\")\n",
    "    plt.show()\n",
    "    plt.close()\n",
    "\n",
    "\n",
    "pinta_frontera_recta(theta_opt, X, Y)"
   ]
  },
  {
   "cell_type": "markdown",
   "metadata": {},
   "source": [
    "## Evaluacion regresion logistica"
   ]
  },
  {
   "cell_type": "code",
   "execution_count": 62,
   "metadata": {},
   "outputs": [
    {
     "data": {
      "text/plain": [
       "40"
      ]
     },
     "execution_count": 62,
     "metadata": {},
     "output_type": "execute_result"
    }
   ],
   "source": [
    "z = np.dot(X[:,:], theta_opt)\n",
    "sigmoid(z)\n",
    "\n",
    "admitidos = z[z >= 0.5] #admitidos 57 (predict)\n",
    "no_admitidos = z[z < 0.5] #no_admitidos 43 (predict)\n",
    "\n",
    "#admitidos 60 (real)\n",
    "pos = np.where(Y == 1)\n",
    "len((X[pos, 1])[0])\n",
    "\n",
    "#no admitidos 40 (real)\n",
    "pos = np.where(Y == 0)\n",
    "len((X[pos, 1])[0])"
   ]
  },
  {
   "cell_type": "code",
   "execution_count": 13,
   "metadata": {},
   "outputs": [
    {
     "ename": "TypeError",
     "evalue": "plot_decisionboundary() missing 1 required positional argument: 'poly'",
     "output_type": "error",
     "traceback": [
      "\u001b[1;31m---------------------------------------------------------------------------\u001b[0m",
      "\u001b[1;31mTypeError\u001b[0m                                 Traceback (most recent call last)",
      "\u001b[1;32m<ipython-input-13-d376be93aef4>\u001b[0m in \u001b[0;36m<module>\u001b[1;34m\u001b[0m\n\u001b[0;32m     12\u001b[0m     \u001b[0mplt\u001b[0m\u001b[1;33m.\u001b[0m\u001b[0mclose\u001b[0m\u001b[1;33m(\u001b[0m\u001b[1;33m)\u001b[0m\u001b[1;33m\u001b[0m\u001b[1;33m\u001b[0m\u001b[0m\n\u001b[0;32m     13\u001b[0m \u001b[1;33m\u001b[0m\u001b[0m\n\u001b[1;32m---> 14\u001b[1;33m \u001b[0mplot_decisionboundary\u001b[0m\u001b[1;33m(\u001b[0m\u001b[0mX\u001b[0m\u001b[1;33m,\u001b[0m\u001b[0mY\u001b[0m\u001b[1;33m,\u001b[0m \u001b[0mtheta\u001b[0m\u001b[1;33m)\u001b[0m\u001b[1;33m\u001b[0m\u001b[1;33m\u001b[0m\u001b[0m\n\u001b[0m",
      "\u001b[1;31mTypeError\u001b[0m: plot_decisionboundary() missing 1 required positional argument: 'poly'"
     ]
    }
   ],
   "source": [
    "def plot_decisionboundary(X, Y, theta, poly):\n",
    "    plt.figure()\n",
    "    x1_min, x1_max = X[:, 0].min(), X[:, 0].max()\n",
    "    x2_min, x2_max = X[:, 1].min(), X[:, 1].max()\n",
    "    xx1, xx2 = np.meshgrid(np.linspace(x1_min, x1_max),\n",
    "    np.linspace(x2_min, x2_max))\n",
    "    h = sigmoid(poly.fit_transform(np.c_[xx1.ravel(),\n",
    "    xx2.ravel()]).dot(theta))\n",
    "    h = h.reshape(xx1.shape)\n",
    "    plt.contour(xx1, xx2, h, [0.5], linewidths=1, colors='g')\n",
    "    plt.savefig(\"boundary.pdf\")\n",
    "    plt.close()\n",
    "\n",
    "plot_decisionboundary(X,Y, theta)"
   ]
  }
 ],
 "metadata": {
  "kernelspec": {
   "display_name": "Python 3.7.4 64-bit",
   "language": "python",
   "name": "python37464bit4b83efd7d4594b748b4a8e186a476d29"
  },
  "language_info": {
   "codemirror_mode": {
    "name": "ipython",
    "version": 3
   },
   "file_extension": ".py",
   "mimetype": "text/x-python",
   "name": "python",
   "nbconvert_exporter": "python",
   "pygments_lexer": "ipython3",
   "version": "3.7.4"
  }
 },
 "nbformat": 4,
 "nbformat_minor": 4
}
