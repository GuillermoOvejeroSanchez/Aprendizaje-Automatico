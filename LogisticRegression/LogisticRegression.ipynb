{
 "cells": [
  {
   "cell_type": "code",
   "execution_count": 1,
   "metadata": {},
   "outputs": [],
   "source": [
    "import os\n",
    "import numpy as np\n",
    "import matplotlib.pyplot as plt\n",
    "import pandas as pd"
   ]
  },
  {
   "cell_type": "code",
   "execution_count": 2,
   "metadata": {},
   "outputs": [],
   "source": [
    "PROJECT_ROOT_DIR = \"./\"\n",
    "IMAGES_PATH = os.path.join(PROJECT_ROOT_DIR, \"img\")\n",
    "DATA_PATH = os.path.join(PROJECT_ROOT_DIR, \"data\")\n",
    "os.makedirs(IMAGES_PATH, exist_ok=True)\n",
    "os.makedirs(DATA_PATH, exist_ok=True)\n",
    "\n",
    "def save_fig(fig_id, tight_layout=True, fig_extension=\"png\", resolution=300):\n",
    "    path = os.path.join(IMAGES_PATH, fig_id + \".\" + fig_extension)\n",
    "    print(\"Saving figure\", fig_id)\n",
    "    if tight_layout:\n",
    "        plt.tight_layout()\n",
    "    plt.savefig(path, format=fig_extension, dpi=resolution)\n",
    "    \n",
    "def load_csv(path=DATA_PATH, fich=\"ex1data1.csv\"):\n",
    "    os.makedirs(path, exist_ok=True)\n",
    "    csv_path = os.path.join(path,fich)\n",
    "    datos = pd.read_csv(csv_path, header=None).values\n",
    "    return datos.astype(float) "
   ]
  },
  {
   "cell_type": "code",
   "execution_count": 3,
   "metadata": {},
   "outputs": [
    {
     "data": {
      "text/plain": [
       "numpy.ndarray"
      ]
     },
     "execution_count": 3,
     "metadata": {},
     "output_type": "execute_result"
    }
   ],
   "source": [
    "datos = load_csv(fich=\"ex2data1.csv\")\n",
    "type(datos)"
   ]
  },
  {
   "cell_type": "code",
   "execution_count": 4,
   "metadata": {},
   "outputs": [
    {
     "data": {
      "text/plain": [
       "(100, 3)"
      ]
     },
     "execution_count": 4,
     "metadata": {},
     "output_type": "execute_result"
    }
   ],
   "source": [
    "np.shape(datos)"
   ]
  },
  {
   "cell_type": "markdown",
   "metadata": {},
   "source": [
    "# 1. Regresión logística\n",
    "Los datos del fichero ex2data1.csv representan las notas obtenidas por una serie de candidatos en los dos exámenes de admisión de una universidad junto con la información sobre si\n",
    "fueron (1) o no (0) admitidos. El objetivo de la práctica es construir un modelo por regresión\n",
    "logística que estime la probabilidad de que un estudiante sea admitido en esa universidad en base\n",
    "a las notas de sus exámenes.\n"
   ]
  },
  {
   "cell_type": "code",
   "execution_count": 5,
   "metadata": {},
   "outputs": [],
   "source": [
    "X = datos[:,:-1]\n",
    "np.shape(X) #(100,2)\n",
    "\n",
    "Y = datos[:,-1]\n",
    "np.shape(Y) #(100,0)\n",
    "\n",
    "m = np.shape(X)[0]\n",
    "n = np.shape(X)[1]\n",
    "\n",
    "# añadimos una columna de 1's a la X\n",
    "X = np.hstack([np.ones([m, 1]), X])"
   ]
  },
  {
   "cell_type": "code",
   "execution_count": 6,
   "metadata": {},
   "outputs": [
    {
     "data": {
      "image/png": "[encoded data removed]",
      "text/plain": [
       "<Figure size 432x288 with 1 Axes>"
      ]
     },
     "metadata": {
      "needs_background": "light"
     },
     "output_type": "display_data"
    }
   ],
   "source": [
    "#admitidos\n",
    "pos = np.where(Y == 1)\n",
    "plt.scatter(X[pos, 1], X[pos, 2], marker='x', c='g', label='admitidos')\n",
    "#no admitidos\n",
    "pos = np.where(Y == 0)\n",
    "plt.scatter(X[pos,1], X[pos,2], marker='v', c='r', label='no admitidos')\n",
    "plt.legend(loc = 'upper right')\n",
    "plt.xlabel(\"Exam 1 score\")\n",
    "plt.ylabel(\"Exam 2 score\")\n",
    "plt.show()"
   ]
  },
  {
   "cell_type": "markdown",
   "metadata": {},
   "source": [
    "## Función sigmoide"
   ]
  },
  {
   "cell_type": "code",
   "execution_count": 7,
   "metadata": {},
   "outputs": [
    {
     "data": {
      "image/png": "[encoded data removed]",
      "text/plain": [
       "<Figure size 432x288 with 1 Axes>"
      ]
     },
     "metadata": {
      "needs_background": "light"
     },
     "output_type": "display_data"
    }
   ],
   "source": [
    "def sigmoid(z):\n",
    "    return 1/(1+np.exp(-z))\n",
    "\n",
    "x = np.linspace(-10,10,50)\n",
    "y = sigmoid(x)\n",
    "\n",
    "plt.plot(x,y)\n",
    "plt.show()"
   ]
  },
  {
   "cell_type": "code",
   "execution_count": 8,
   "metadata": {},
   "outputs": [],
   "source": [
    "theta = np.zeros(np.shape(X[1]))"
   ]
  },
  {
   "cell_type": "markdown",
   "metadata": {},
   "source": [
    "## Funcion de coste"
   ]
  },
  {
   "cell_type": "code",
   "execution_count": 9,
   "metadata": {},
   "outputs": [
    {
     "data": {
      "text/plain": [
       "0.6931471805599453"
      ]
     },
     "execution_count": 9,
     "metadata": {},
     "output_type": "execute_result"
    }
   ],
   "source": [
    "def cost(theta, X, Y):\n",
    "    H = sigmoid(np.matmul(X, Theta)) # X\\theta\n",
    "    cost = (-1 / len(X)) * (np.matmul(np.log(H).T, Y) + np.matmul(np.log(1 - H).T, 1 - Y))\n",
    "    return cost\n",
    "\n",
    "\n",
    "def coste(theta, X, Y):\n",
    "    # H = sigmoid(np.matmul(X, np.transpose(theta)))\n",
    "    H = sigmoid(np.matmul(X, theta))\n",
    "    # cost = (- 1 / (len(X))) * np.sum( Y * np.log(H) + (1 - Y) * np.log(1 - H) )\n",
    "    cost = (- 1 / (len(X))) * (np.matmul(Y, np.log(H)) + np.matmul((1 - Y), np.log(1 - H)))\n",
    "    return cost\n",
    "\n",
    "coste(theta, X, Y)"
   ]
  },
  {
   "cell_type": "markdown",
   "metadata": {},
   "source": [
    "## Gradiente"
   ]
  },
  {
   "cell_type": "code",
   "execution_count": 10,
   "metadata": {},
   "outputs": [
    {
     "data": {
      "text/plain": [
       "array([ -0.1       , -12.00921659, -11.26284221])"
      ]
     },
     "execution_count": 10,
     "metadata": {},
     "output_type": "execute_result"
    }
   ],
   "source": [
    "def gradient(Theta, X, Y):\n",
    "    H = sigmoid(np.matmul(X, Theta))\n",
    "    return (1/len(X)) * (np.matmul(X.T, H - Y))\n",
    "    \n",
    "gradient(theta, X,Y)"
   ]
  },
  {
   "cell_type": "markdown",
   "metadata": {},
   "source": [
    "## Valor optimo de los parametros"
   ]
  },
  {
   "cell_type": "code",
   "execution_count": 11,
   "metadata": {},
   "outputs": [
    {
     "data": {
      "text/plain": [
       "array([-25.1613186 ,   0.20623159,   0.20147149])"
      ]
     },
     "execution_count": 11,
     "metadata": {},
     "output_type": "execute_result"
    }
   ],
   "source": [
    "import scipy.optimize as opt\n",
    "\n",
    "result = opt.fmin_tnc(func=coste, x0=theta, fprime=gradient, args=(X, Y))\n",
    "theta_opt = result[0]\n",
    "\n",
    "theta_opt"
   ]
  },
  {
   "cell_type": "code",
   "execution_count": 12,
   "metadata": {},
   "outputs": [
    {
     "data": {
      "image/png": "[encoded data removed]",
      "text/plain": [
       "<Figure size 432x288 with 1 Axes>"
      ]
     },
     "metadata": {
      "needs_background": "light"
     },
     "output_type": "display_data"
    }
   ],
   "source": [
    "def pinta_frontera_recta(theta, X, Y):\n",
    "    plt.figure()\n",
    "    #admitidos\n",
    "    pos = np.where(Y == 1)\n",
    "    plt.scatter(X[pos, 1], X[pos, 2], marker='x', c='g', label='admitidos')\n",
    "    #no admitidos\n",
    "    pos = np.where(Y == 0)\n",
    "    plt.scatter(X[pos,1], X[pos,2], marker='v', c='r', label='no admitidos')\n",
    "    plt.legend(loc = 'upper right')\n",
    "    plt.xlabel(\"Exam 1 score\")\n",
    "    plt.ylabel(\"Exam 2 score\")\n",
    "    #plt.show()\n",
    "\n",
    "    x1_min, x1_max = X[:, 1].min(), X[:, 2].max()\n",
    "    x2_min, x2_max = X[:, 1].min(), X[:, 2].max()\n",
    "\n",
    "    xx1, xx2 = np.meshgrid(np.linspace(x1_min, x1_max),\n",
    "    np.linspace(x2_min, x2_max))\n",
    "\n",
    "    h = sigmoid(np.c_[np.ones((xx1.ravel().shape[0], 1)), xx1.ravel(), xx2.ravel()].dot(theta))\n",
    "\n",
    "    h = h.reshape(xx1.shape)\n",
    "    # el cuarto parámetro es el valor de z cuya frontera se\n",
    "    # quiere pintar\n",
    "    plt.contour(xx1, xx2, h, [0.5], linewidths=1, colors='orange')\n",
    "    plt.savefig(\"frontera.pdf\")\n",
    "    plt.show()\n",
    "    plt.close()\n",
    "\n",
    "\n",
    "pinta_frontera_recta(theta_opt, X, Y)"
   ]
  },
  {
   "cell_type": "markdown",
   "metadata": {},
   "source": [
    "## Evaluacion regresion logistica"
   ]
  },
  {
   "cell_type": "code",
   "execution_count": 13,
   "metadata": {},
   "outputs": [
    {
     "name": "stdout",
     "output_type": "stream",
     "text": [
      "55 TP 5 FN \n",
      " 6 FP 34 TN\n",
      "precision 0.9016393442622951\n",
      "recall 0.9166666666666666\n",
      "accuracy 0.89\n",
      "f1_score 0.9090909090909091\n"
     ]
    }
   ],
   "source": [
    "z = np.dot(X, theta_opt)\n",
    "g = sigmoid(z)\n",
    "\n",
    "admitidos = g[g >= 0.5] #admitidos 61 (predict) 60 (real)\n",
    "no_admitidos = g[g < 0.5] #no_admitidos 39 (predict) 40 (real)\n",
    "\n",
    "#predict\n",
    "g[g >= 0.5] = 1\n",
    "g[g < 0.5] = 0\n",
    "\n",
    "tp = len(g[(g == Y) & (g == 1)]) #correctly identified\n",
    "fp = len(g[(g != Y) & (g == 1)]) #incorrectly identified\n",
    "tn = len(g[(g == Y) & (g == 0)]) #correctly rejected\n",
    "fn = len(g[(g != Y) & (g == 0)]) #incorrectly rejected\n",
    "print(tp,'TP',fn,'FN','\\n',fp,'FP',tn, 'TN')\n",
    "\n",
    "accuracy = (tp + tn) / (len(g)) #acertados / total = exactitud\n",
    "#la exactitud no suele ser una buena manera de medir como de correcto es el modelo\n",
    "\n",
    "#\n",
    "precision = tp / (tp + fp) #porcentaje de los correctos correctamente identificados\n",
    "recall = tp / (tp + fn) \n",
    "f1_score = 2 * ((precision * recall) / (precision + recall))\n",
    "\n",
    "print(\"precision\", precision)\n",
    "print(\"recall\", recall)\n",
    "print(\"accuracy\", accuracy)\n",
    "print(\"f1_score\", f1_score)"
   ]
  },
  {
   "cell_type": "markdown",
   "metadata": {},
   "source": [
    "<img src=\"img/confusion.jpg\">"
   ]
  },
  {
   "cell_type": "markdown",
   "metadata": {},
   "source": [
    "# Regresion Logistica Regularizada"
   ]
  },
  {
   "cell_type": "code",
   "execution_count": 14,
   "metadata": {},
   "outputs": [],
   "source": [
    "datos = load_csv(fich=\"ex2data2.csv\")"
   ]
  },
  {
   "cell_type": "code",
   "execution_count": 15,
   "metadata": {},
   "outputs": [],
   "source": [
    "X = datos[:,:-1]\n",
    "np.shape(X) #(100,2)\n",
    "\n",
    "Y = datos[:,-1]\n",
    "np.shape(Y) #(100,0)\n",
    "\n",
    "m = np.shape(X)[0]\n",
    "n = np.shape(X)[1]\n",
    "\n",
    "# añadimos una columna de 1's a la X\n",
    "#X = np.hstack([np.ones([m, 1]), X])\n",
    "\n",
    "theta = np.zeros(np.shape(X[1]))"
   ]
  },
  {
   "cell_type": "code",
   "execution_count": 16,
   "metadata": {},
   "outputs": [
    {
     "data": {
      "image/png": "[encoded data removed]",
      "text/plain": [
       "<Figure size 432x288 with 1 Axes>"
      ]
     },
     "metadata": {
      "needs_background": "light"
     },
     "output_type": "display_data"
    }
   ],
   "source": [
    "#pasado\n",
    "pos = np.where(Y == 1)\n",
    "plt.scatter(X[pos, 0], X[pos, 1], marker='x', c='g', label='Pasado')\n",
    "\n",
    "#no pasado\n",
    "pos = np.where(Y == 0)\n",
    "plt.scatter(X[pos,0], X[pos,1], marker='v', c='r', label='No pasado')\n",
    "\n",
    "plt.legend(loc = 'upper right')\n",
    "plt.xlabel(\"Microchip test 1\")\n",
    "plt.ylabel(\"Microchip test 2\")\n",
    "plt.show()"
   ]
  },
  {
   "cell_type": "code",
   "execution_count": 17,
   "metadata": {},
   "outputs": [],
   "source": [
    "import sklearn.preprocessing as prep\n",
    "poly = prep.PolynomialFeatures(6)\n",
    "X_poly = poly.fit_transform(X)\n",
    "\n",
    "theta = np.zeros(np.shape(X_poly[1]))\n",
    "lambda_param = 1"
   ]
  },
  {
   "cell_type": "code",
   "execution_count": 18,
   "metadata": {},
   "outputs": [
    {
     "data": {
      "text/plain": [
       "0.6931471805599454"
      ]
     },
     "execution_count": 18,
     "metadata": {},
     "output_type": "execute_result"
    }
   ],
   "source": [
    "def cost(theta, X, Y, lambda_param):\n",
    "    H = sigmoid(np.dot(X, theta))\n",
    "    Aux1 = -(np.dot(np.log(H).T, Y) + np.dot((np.log(1 - H)).T, (1 - Y)))/len(X)\n",
    "    Aux2 = (lambda_param/(2*len(X))) * np.sum(theta**2)\n",
    "    return Aux1 + Aux2\n",
    "\n",
    "cost(theta, X_poly, Y, lambda_param)"
   ]
  },
  {
   "cell_type": "code",
   "execution_count": 19,
   "metadata": {},
   "outputs": [],
   "source": [
    "def gradient(theta, X, Y, lambda_param):\n",
    "    Aux = (np.dot(X.T, sigmoid(np.dot(X, theta)) - Y)) / len(X)\n",
    "    return Aux + (lambda_param/len(X))*theta"
   ]
  },
  {
   "cell_type": "code",
   "execution_count": 30,
   "metadata": {},
   "outputs": [
    {
     "data": {
      "text/plain": [
       "array([ 1.1420157 ,  0.60123721,  1.16715781, -1.87180913, -0.91567108,\n",
       "       -1.26943991,  0.1267869 , -0.3685009 , -0.34494231, -0.17391089,\n",
       "       -1.42370664, -0.04838563, -0.60631729, -0.26916581, -1.16320179,\n",
       "       -0.24269673, -0.20697478, -0.04305261, -0.28008534, -0.2870894 ,\n",
       "       -0.46912454, -1.03629776,  0.02904368, -0.29250724,  0.01716363,\n",
       "       -0.32880506, -0.13795627, -0.93187542])"
      ]
     },
     "execution_count": 30,
     "metadata": {},
     "output_type": "execute_result"
    }
   ],
   "source": [
    "result = opt.fmin_tnc(func=cost, x0=theta, fprime=gradient, args=(X_poly, Y, lambda_param))\n",
    "theta_opt = result[0]\n",
    "theta_opt"
   ]
  },
  {
   "cell_type": "code",
   "execution_count": 32,
   "metadata": {},
   "outputs": [],
   "source": [
    "def plot_decisionboundary(X, Y, theta, poly):\n",
    "    plt.figure()\n",
    "    \n",
    "    pos = np.where(Y == 1)\n",
    "    plt.scatter(X[pos, 0], X[pos, 1], marker='x', c='k', label='Pasado')\n",
    "    pos = np.where(Y == 0)\n",
    "    plt.scatter(X[pos,0], X[pos,1], marker='v', c='y', label='No pasado')\n",
    "    \n",
    "    x1_min, x1_max = X[:, 0].min(), X[:, 0].max()\n",
    "    x2_min, x2_max = X[:, 1].min(), X[:, 1].max()\n",
    "    xx1, xx2 = np.meshgrid(np.linspace(x1_min, x1_max),\n",
    "    np.linspace(x2_min, x2_max))\n",
    "    h = sigmoid(poly.fit_transform(np.c_[xx1.ravel(),\n",
    "    xx2.ravel()]).dot(theta))\n",
    "    h = h.reshape(xx1.shape)\n",
    "    plt.contour(xx1, xx2, h, [0.5], linewidths=1, colors='g')\n",
    "    plt.show()\n",
    "    plt.savefig(\"boundary.pdf\")\n",
    "    plt.close()"
   ]
  },
  {
   "cell_type": "code",
   "execution_count": 31,
   "metadata": {},
   "outputs": [
    {
     "data": {
      "image/png": "[encoded data removed]",
      "text/plain": [
       "<Figure size 432x288 with 1 Axes>"
      ]
     },
     "metadata": {
      "needs_background": "light"
     },
     "output_type": "display_data"
    }
   ],
   "source": [
    "plot_decisionboundary(X,Y, theta_opt, poly)"
   ]
  }
 ],
 "metadata": {
  "kernelspec": {
   "display_name": "Python 3",
   "language": "python",
   "name": "python3"
  },
  "language_info": {
   "codemirror_mode": {
    "name": "ipython",
    "version": 3
   },
   "file_extension": ".py",
   "mimetype": "text/x-python",
   "name": "python",
   "nbconvert_exporter": "python",
   "pygments_lexer": "ipython3",
   "version": "3.7.4"
  }
 },
 "nbformat": 4,
 "nbformat_minor": 4
}
